{
  "nbformat": 4,
  "nbformat_minor": 0,
  "metadata": {
    "colab": {
      "name": "Neural_Networks.ipynb",
      "provenance": [],
      "collapsed_sections": [
        "dtXkYY6k2koQ",
        "DcVK_F7hqqBr",
        "HlRn47AVORMv",
        "6tceqAbaOZ73",
        "_bwyCvqondr6"
      ],
      "toc_visible": true,
      "include_colab_link": true
    },
    "kernelspec": {
      "name": "python3",
      "display_name": "Python 3"
    }
  },
  "cells": [
    {
      "cell_type": "markdown",
      "metadata": {
        "id": "view-in-github",
        "colab_type": "text"
      },
      "source": [
        "<a href=\"https://colab.research.google.com/github/Khanjan24/BERT-Text-Classification/blob/main/Neural_Networks.ipynb\" target=\"_parent\"><img src=\"https://colab.research.google.com/assets/colab-badge.svg\" alt=\"Open In Colab\"/></a>"
      ]
    },
    {
      "cell_type": "markdown",
      "metadata": {
        "id": "YjjzycBs0DAX"
      },
      "source": [
        "###1.Import packages and data\n"
      ]
    },
    {
      "cell_type": "markdown",
      "metadata": {
        "id": "Tl8wZUZsJz0a"
      },
      "source": [
        "To create Neural Network models, import tensorflow and keras in addition to pandas and numpy."
      ]
    },
    {
      "cell_type": "code",
      "metadata": {
        "id": "NBE-1IgV0Bt4"
      },
      "source": [
        "import matplotlib.pyplot as plt\n",
        "import tensorflow\n",
        "import keras\n",
        "from keras import metrics\n",
        "import numpy as np\n",
        "from scipy.spatial.distance import cdist\n",
        "import pandas as pd"
      ],
      "execution_count": null,
      "outputs": []
    },
    {
      "cell_type": "markdown",
      "metadata": {
        "id": "xMxmKpuxKQvM"
      },
      "source": [
        "Also import 'drugTweets.txt' file that contains user_id, tweets, and classification label."
      ]
    },
    {
      "cell_type": "code",
      "metadata": {
        "id": "fBw0o34a0LYQ",
        "outputId": "684b2e68-24e5-430e-8668-7124443c3b64",
        "colab": {
          "resources": {
            "http://localhost:8080/nbextensions/google.colab/files.js": {
              "data": "Ly8gQ29weXJpZ2h0IDIwMTcgR29vZ2xlIExMQwovLwovLyBMaWNlbnNlZCB1bmRlciB0aGUgQXBhY2hlIExpY2Vuc2UsIFZlcnNpb24gMi4wICh0aGUgIkxpY2Vuc2UiKTsKLy8geW91IG1heSBub3QgdXNlIHRoaXMgZmlsZSBleGNlcHQgaW4gY29tcGxpYW5jZSB3aXRoIHRoZSBMaWNlbnNlLgovLyBZb3UgbWF5IG9idGFpbiBhIGNvcHkgb2YgdGhlIExpY2Vuc2UgYXQKLy8KLy8gICAgICBodHRwOi8vd3d3LmFwYWNoZS5vcmcvbGljZW5zZXMvTElDRU5TRS0yLjAKLy8KLy8gVW5sZXNzIHJlcXVpcmVkIGJ5IGFwcGxpY2FibGUgbGF3IG9yIGFncmVlZCB0byBpbiB3cml0aW5nLCBzb2Z0d2FyZQovLyBkaXN0cmlidXRlZCB1bmRlciB0aGUgTGljZW5zZSBpcyBkaXN0cmlidXRlZCBvbiBhbiAiQVMgSVMiIEJBU0lTLAovLyBXSVRIT1VUIFdBUlJBTlRJRVMgT1IgQ09ORElUSU9OUyBPRiBBTlkgS0lORCwgZWl0aGVyIGV4cHJlc3Mgb3IgaW1wbGllZC4KLy8gU2VlIHRoZSBMaWNlbnNlIGZvciB0aGUgc3BlY2lmaWMgbGFuZ3VhZ2UgZ292ZXJuaW5nIHBlcm1pc3Npb25zIGFuZAovLyBsaW1pdGF0aW9ucyB1bmRlciB0aGUgTGljZW5zZS4KCi8qKgogKiBAZmlsZW92ZXJ2aWV3IEhlbHBlcnMgZm9yIGdvb2dsZS5jb2xhYiBQeXRob24gbW9kdWxlLgogKi8KKGZ1bmN0aW9uKHNjb3BlKSB7CmZ1bmN0aW9uIHNwYW4odGV4dCwgc3R5bGVBdHRyaWJ1dGVzID0ge30pIHsKICBjb25zdCBlbGVtZW50ID0gZG9jdW1lbnQuY3JlYXRlRWxlbWVudCgnc3BhbicpOwogIGVsZW1lbnQudGV4dENvbnRlbnQgPSB0ZXh0OwogIGZvciAoY29uc3Qga2V5IG9mIE9iamVjdC5rZXlzKHN0eWxlQXR0cmlidXRlcykpIHsKICAgIGVsZW1lbnQuc3R5bGVba2V5XSA9IHN0eWxlQXR0cmlidXRlc1trZXldOwogIH0KICByZXR1cm4gZWxlbWVudDsKfQoKLy8gTWF4IG51bWJlciBvZiBieXRlcyB3aGljaCB3aWxsIGJlIHVwbG9hZGVkIGF0IGEgdGltZS4KY29uc3QgTUFYX1BBWUxPQURfU0laRSA9IDEwMCAqIDEwMjQ7Ci8vIE1heCBhbW91bnQgb2YgdGltZSB0byBibG9jayB3YWl0aW5nIGZvciB0aGUgdXNlci4KY29uc3QgRklMRV9DSEFOR0VfVElNRU9VVF9NUyA9IDMwICogMTAwMDsKCmZ1bmN0aW9uIF91cGxvYWRGaWxlcyhpbnB1dElkLCBvdXRwdXRJZCkgewogIGNvbnN0IHN0ZXBzID0gdXBsb2FkRmlsZXNTdGVwKGlucHV0SWQsIG91dHB1dElkKTsKICBjb25zdCBvdXRwdXRFbGVtZW50ID0gZG9jdW1lbnQuZ2V0RWxlbWVudEJ5SWQob3V0cHV0SWQpOwogIC8vIENhY2hlIHN0ZXBzIG9uIHRoZSBvdXRwdXRFbGVtZW50IHRvIG1ha2UgaXQgYXZhaWxhYmxlIGZvciB0aGUgbmV4dCBjYWxsCiAgLy8gdG8gdXBsb2FkRmlsZXNDb250aW51ZSBmcm9tIFB5dGhvbi4KICBvdXRwdXRFbGVtZW50LnN0ZXBzID0gc3RlcHM7CgogIHJldHVybiBfdXBsb2FkRmlsZXNDb250aW51ZShvdXRwdXRJZCk7Cn0KCi8vIFRoaXMgaXMgcm91Z2hseSBhbiBhc3luYyBnZW5lcmF0b3IgKG5vdCBzdXBwb3J0ZWQgaW4gdGhlIGJyb3dzZXIgeWV0KSwKLy8gd2hlcmUgdGhlcmUgYXJlIG11bHRpcGxlIGFzeW5jaHJvbm91cyBzdGVwcyBhbmQgdGhlIFB5dGhvbiBzaWRlIGlzIGdvaW5nCi8vIHRvIHBvbGwgZm9yIGNvbXBsZXRpb24gb2YgZWFjaCBzdGVwLgovLyBUaGlzIHVzZXMgYSBQcm9taXNlIHRvIGJsb2NrIHRoZSBweXRob24gc2lkZSBvbiBjb21wbGV0aW9uIG9mIGVhY2ggc3RlcCwKLy8gdGhlbiBwYXNzZXMgdGhlIHJlc3VsdCBvZiB0aGUgcHJldmlvdXMgc3RlcCBhcyB0aGUgaW5wdXQgdG8gdGhlIG5leHQgc3RlcC4KZnVuY3Rpb24gX3VwbG9hZEZpbGVzQ29udGludWUob3V0cHV0SWQpIHsKICBjb25zdCBvdXRwdXRFbGVtZW50ID0gZG9jdW1lbnQuZ2V0RWxlbWVudEJ5SWQob3V0cHV0SWQpOwogIGNvbnN0IHN0ZXBzID0gb3V0cHV0RWxlbWVudC5zdGVwczsKCiAgY29uc3QgbmV4dCA9IHN0ZXBzLm5leHQob3V0cHV0RWxlbWVudC5sYXN0UHJvbWlzZVZhbHVlKTsKICByZXR1cm4gUHJvbWlzZS5yZXNvbHZlKG5leHQudmFsdWUucHJvbWlzZSkudGhlbigodmFsdWUpID0+IHsKICAgIC8vIENhY2hlIHRoZSBsYXN0IHByb21pc2UgdmFsdWUgdG8gbWFrZSBpdCBhdmFpbGFibGUgdG8gdGhlIG5leHQKICAgIC8vIHN0ZXAgb2YgdGhlIGdlbmVyYXRvci4KICAgIG91dHB1dEVsZW1lbnQubGFzdFByb21pc2VWYWx1ZSA9IHZhbHVlOwogICAgcmV0dXJuIG5leHQudmFsdWUucmVzcG9uc2U7CiAgfSk7Cn0KCi8qKgogKiBHZW5lcmF0b3IgZnVuY3Rpb24gd2hpY2ggaXMgY2FsbGVkIGJldHdlZW4gZWFjaCBhc3luYyBzdGVwIG9mIHRoZSB1cGxvYWQKICogcHJvY2Vzcy4KICogQHBhcmFtIHtzdHJpbmd9IGlucHV0SWQgRWxlbWVudCBJRCBvZiB0aGUgaW5wdXQgZmlsZSBwaWNrZXIgZWxlbWVudC4KICogQHBhcmFtIHtzdHJpbmd9IG91dHB1dElkIEVsZW1lbnQgSUQgb2YgdGhlIG91dHB1dCBkaXNwbGF5LgogKiBAcmV0dXJuIHshSXRlcmFibGU8IU9iamVjdD59IEl0ZXJhYmxlIG9mIG5leHQgc3RlcHMuCiAqLwpmdW5jdGlvbiogdXBsb2FkRmlsZXNTdGVwKGlucHV0SWQsIG91dHB1dElkKSB7CiAgY29uc3QgaW5wdXRFbGVtZW50ID0gZG9jdW1lbnQuZ2V0RWxlbWVudEJ5SWQoaW5wdXRJZCk7CiAgaW5wdXRFbGVtZW50LmRpc2FibGVkID0gZmFsc2U7CgogIGNvbnN0IG91dHB1dEVsZW1lbnQgPSBkb2N1bWVudC5nZXRFbGVtZW50QnlJZChvdXRwdXRJZCk7CiAgb3V0cHV0RWxlbWVudC5pbm5lckhUTUwgPSAnJzsKCiAgY29uc3QgcGlja2VkUHJvbWlzZSA9IG5ldyBQcm9taXNlKChyZXNvbHZlKSA9PiB7CiAgICBpbnB1dEVsZW1lbnQuYWRkRXZlbnRMaXN0ZW5lcignY2hhbmdlJywgKGUpID0+IHsKICAgICAgcmVzb2x2ZShlLnRhcmdldC5maWxlcyk7CiAgICB9KTsKICB9KTsKCiAgY29uc3QgY2FuY2VsID0gZG9jdW1lbnQuY3JlYXRlRWxlbWVudCgnYnV0dG9uJyk7CiAgaW5wdXRFbGVtZW50LnBhcmVudEVsZW1lbnQuYXBwZW5kQ2hpbGQoY2FuY2VsKTsKICBjYW5jZWwudGV4dENvbnRlbnQgPSAnQ2FuY2VsIHVwbG9hZCc7CiAgY29uc3QgY2FuY2VsUHJvbWlzZSA9IG5ldyBQcm9taXNlKChyZXNvbHZlKSA9PiB7CiAgICBjYW5jZWwub25jbGljayA9ICgpID0+IHsKICAgICAgcmVzb2x2ZShudWxsKTsKICAgIH07CiAgfSk7CgogIC8vIENhbmNlbCB1cGxvYWQgaWYgdXNlciBoYXNuJ3QgcGlja2VkIGFueXRoaW5nIGluIHRpbWVvdXQuCiAgY29uc3QgdGltZW91dFByb21pc2UgPSBuZXcgUHJvbWlzZSgocmVzb2x2ZSkgPT4gewogICAgc2V0VGltZW91dCgoKSA9PiB7CiAgICAgIHJlc29sdmUobnVsbCk7CiAgICB9LCBGSUxFX0NIQU5HRV9USU1FT1VUX01TKTsKICB9KTsKCiAgLy8gV2FpdCBmb3IgdGhlIHVzZXIgdG8gcGljayB0aGUgZmlsZXMuCiAgY29uc3QgZmlsZXMgPSB5aWVsZCB7CiAgICBwcm9taXNlOiBQcm9taXNlLnJhY2UoW3BpY2tlZFByb21pc2UsIHRpbWVvdXRQcm9taXNlLCBjYW5jZWxQcm9taXNlXSksCiAgICByZXNwb25zZTogewogICAgICBhY3Rpb246ICdzdGFydGluZycsCiAgICB9CiAgfTsKCiAgaWYgKCFmaWxlcykgewogICAgcmV0dXJuIHsKICAgICAgcmVzcG9uc2U6IHsKICAgICAgICBhY3Rpb246ICdjb21wbGV0ZScsCiAgICAgIH0KICAgIH07CiAgfQoKICBjYW5jZWwucmVtb3ZlKCk7CgogIC8vIERpc2FibGUgdGhlIGlucHV0IGVsZW1lbnQgc2luY2UgZnVydGhlciBwaWNrcyBhcmUgbm90IGFsbG93ZWQuCiAgaW5wdXRFbGVtZW50LmRpc2FibGVkID0gdHJ1ZTsKCiAgZm9yIChjb25zdCBmaWxlIG9mIGZpbGVzKSB7CiAgICBjb25zdCBsaSA9IGRvY3VtZW50LmNyZWF0ZUVsZW1lbnQoJ2xpJyk7CiAgICBsaS5hcHBlbmQoc3BhbihmaWxlLm5hbWUsIHtmb250V2VpZ2h0OiAnYm9sZCd9KSk7CiAgICBsaS5hcHBlbmQoc3BhbigKICAgICAgICBgKCR7ZmlsZS50eXBlIHx8ICduL2EnfSkgLSAke2ZpbGUuc2l6ZX0gYnl0ZXMsIGAgKwogICAgICAgIGBsYXN0IG1vZGlmaWVkOiAkewogICAgICAgICAgICBmaWxlLmxhc3RNb2RpZmllZERhdGUgPyBmaWxlLmxhc3RNb2RpZmllZERhdGUudG9Mb2NhbGVEYXRlU3RyaW5nKCkgOgogICAgICAgICAgICAgICAgICAgICAgICAgICAgICAgICAgICAnbi9hJ30gLSBgKSk7CiAgICBjb25zdCBwZXJjZW50ID0gc3BhbignMCUgZG9uZScpOwogICAgbGkuYXBwZW5kQ2hpbGQocGVyY2VudCk7CgogICAgb3V0cHV0RWxlbWVudC5hcHBlbmRDaGlsZChsaSk7CgogICAgY29uc3QgZmlsZURhdGFQcm9taXNlID0gbmV3IFByb21pc2UoKHJlc29sdmUpID0+IHsKICAgICAgY29uc3QgcmVhZGVyID0gbmV3IEZpbGVSZWFkZXIoKTsKICAgICAgcmVhZGVyLm9ubG9hZCA9IChlKSA9PiB7CiAgICAgICAgcmVzb2x2ZShlLnRhcmdldC5yZXN1bHQpOwogICAgICB9OwogICAgICByZWFkZXIucmVhZEFzQXJyYXlCdWZmZXIoZmlsZSk7CiAgICB9KTsKICAgIC8vIFdhaXQgZm9yIHRoZSBkYXRhIHRvIGJlIHJlYWR5LgogICAgbGV0IGZpbGVEYXRhID0geWllbGQgewogICAgICBwcm9taXNlOiBmaWxlRGF0YVByb21pc2UsCiAgICAgIHJlc3BvbnNlOiB7CiAgICAgICAgYWN0aW9uOiAnY29udGludWUnLAogICAgICB9CiAgICB9OwoKICAgIC8vIFVzZSBhIGNodW5rZWQgc2VuZGluZyB0byBhdm9pZCBtZXNzYWdlIHNpemUgbGltaXRzLiBTZWUgYi82MjExNTY2MC4KICAgIGxldCBwb3NpdGlvbiA9IDA7CiAgICB3aGlsZSAocG9zaXRpb24gPCBmaWxlRGF0YS5ieXRlTGVuZ3RoKSB7CiAgICAgIGNvbnN0IGxlbmd0aCA9IE1hdGgubWluKGZpbGVEYXRhLmJ5dGVMZW5ndGggLSBwb3NpdGlvbiwgTUFYX1BBWUxPQURfU0laRSk7CiAgICAgIGNvbnN0IGNodW5rID0gbmV3IFVpbnQ4QXJyYXkoZmlsZURhdGEsIHBvc2l0aW9uLCBsZW5ndGgpOwogICAgICBwb3NpdGlvbiArPSBsZW5ndGg7CgogICAgICBjb25zdCBiYXNlNjQgPSBidG9hKFN0cmluZy5mcm9tQ2hhckNvZGUuYXBwbHkobnVsbCwgY2h1bmspKTsKICAgICAgeWllbGQgewogICAgICAgIHJlc3BvbnNlOiB7CiAgICAgICAgICBhY3Rpb246ICdhcHBlbmQnLAogICAgICAgICAgZmlsZTogZmlsZS5uYW1lLAogICAgICAgICAgZGF0YTogYmFzZTY0LAogICAgICAgIH0sCiAgICAgIH07CiAgICAgIHBlcmNlbnQudGV4dENvbnRlbnQgPQogICAgICAgICAgYCR7TWF0aC5yb3VuZCgocG9zaXRpb24gLyBmaWxlRGF0YS5ieXRlTGVuZ3RoKSAqIDEwMCl9JSBkb25lYDsKICAgIH0KICB9CgogIC8vIEFsbCBkb25lLgogIHlpZWxkIHsKICAgIHJlc3BvbnNlOiB7CiAgICAgIGFjdGlvbjogJ2NvbXBsZXRlJywKICAgIH0KICB9Owp9CgpzY29wZS5nb29nbGUgPSBzY29wZS5nb29nbGUgfHwge307CnNjb3BlLmdvb2dsZS5jb2xhYiA9IHNjb3BlLmdvb2dsZS5jb2xhYiB8fCB7fTsKc2NvcGUuZ29vZ2xlLmNvbGFiLl9maWxlcyA9IHsKICBfdXBsb2FkRmlsZXMsCiAgX3VwbG9hZEZpbGVzQ29udGludWUsCn07Cn0pKHNlbGYpOwo=",
              "ok": true,
              "headers": [
                [
                  "content-type",
                  "application/javascript"
                ]
              ],
              "status": 200,
              "status_text": ""
            }
          },
          "base_uri": "https://localhost:8080/",
          "height": 88
        }
      },
      "source": [
        "from google.colab import files\n",
        "\n",
        "uploaded = files.upload()\n",
        "\n",
        "for fn in uploaded.keys():\n",
        "  print('User uploaded file \"{name}\" with length {length} bytes'.format(\n",
        "      name=fn, length=len(uploaded[fn])))\n",
        "  \n"
      ],
      "execution_count": null,
      "outputs": [
        {
          "output_type": "display_data",
          "data": {
            "text/html": [
              "\n",
              "     <input type=\"file\" id=\"files-828effb6-d41e-42ea-88c0-ea8f781991cd\" name=\"files[]\" multiple disabled />\n",
              "     <output id=\"result-828effb6-d41e-42ea-88c0-ea8f781991cd\">\n",
              "      Upload widget is only available when the cell has been executed in the\n",
              "      current browser session. Please rerun this cell to enable.\n",
              "      </output>\n",
              "      <script src=\"/nbextensions/google.colab/files.js\"></script> "
            ],
            "text/plain": [
              "<IPython.core.display.HTML object>"
            ]
          },
          "metadata": {
            "tags": []
          }
        },
        {
          "output_type": "stream",
          "text": [
            "Saving drugTweets.txt to drugTweets (2).txt\n",
            "User uploaded file \"drugTweets.txt\" with length 368650 bytes\n"
          ],
          "name": "stdout"
        }
      ]
    },
    {
      "cell_type": "code",
      "metadata": {
        "id": "zxL92kUOxbdA"
      },
      "source": [
        "drugTweets = pd.read_csv('drugTweets.txt', delimiter = \"\\t\", header = 0)"
      ],
      "execution_count": null,
      "outputs": []
    },
    {
      "cell_type": "markdown",
      "metadata": {
        "id": "j0-XuUOo0Y74"
      },
      "source": [
        "###2.Tokenization & Split Train / Test"
      ]
    },
    {
      "cell_type": "code",
      "metadata": {
        "id": "oGuXGA7o12dE"
      },
      "source": [
        "from keras.preprocessing.text import Tokenizer"
      ],
      "execution_count": null,
      "outputs": []
    },
    {
      "cell_type": "markdown",
      "metadata": {
        "id": "qBFfhTYOMAGe"
      },
      "source": [
        "To train the Neural Network model, we tokenize the tweets. We will use the Tokenizer module that cuts tweets by each space and returns a list of words and removes punctuation. We only keep 5000 most frequent words in our vocabulary and can set the number by num_words parameter. Tokenize tweets by fit_on_texts function. This function maps words to the index of a token in a dictionary."
      ]
    },
    {
      "cell_type": "code",
      "metadata": {
        "id": "Uv0uGClf0nFk"
      },
      "source": [
        "num_words = 5000\n",
        "\n",
        "tokenizer = Tokenizer(num_words = num_words)\n",
        "tokenizer.fit_on_texts(drugTweets.text_text)\n"
      ],
      "execution_count": null,
      "outputs": []
    },
    {
      "cell_type": "markdown",
      "metadata": {
        "id": "bvnNgBTuRLj1"
      },
      "source": [
        "And then, split the dataset to training and testing set by 80/20. Tokenizer module has 'texts_to_sequences' function that creates an index sequence of the sentences. Convert train/test text to index sequences."
      ]
    },
    {
      "cell_type": "code",
      "metadata": {
        "id": "IFfohN2eRJjl"
      },
      "source": [
        "test = drugTweets.sample(frac = 0.2, random_state = 123)\n",
        "train = drugTweets.drop(test.index)\n",
        "\n",
        "y_train = train.abuse\n",
        "y_test = test.abuse\n",
        "\n",
        "x_test_tokens = tokenizer.texts_to_sequences(test.text_text)\n",
        "x_train_tokens = tokenizer.texts_to_sequences(train.text_text)"
      ],
      "execution_count": null,
      "outputs": []
    },
    {
      "cell_type": "markdown",
      "metadata": {
        "id": "z94F0NiO17Uv"
      },
      "source": [
        "###3.Text Padding"
      ]
    },
    {
      "cell_type": "code",
      "metadata": {
        "id": "XaUnoGaN19Uy"
      },
      "source": [
        "from keras.preprocessing.sequence import pad_sequences"
      ],
      "execution_count": null,
      "outputs": []
    },
    {
      "cell_type": "markdown",
      "metadata": {
        "id": "cr48IHvJX1N4"
      },
      "source": [
        "All samples must have the same number of dimensions to use Keras. So we should put paddings on short tweets or cut the longer ones. To figure out the appropriate length, calculate the mean length of tweets and 2 standard deviations. We set this number as the length of sampels. "
      ]
    },
    {
      "cell_type": "code",
      "metadata": {
        "id": "4JYWMydZ1-z7",
        "outputId": "115ca0e0-c937-4292-a9a4-3ff8faf7dd6c",
        "colab": {
          "base_uri": "https://localhost:8080/",
          "height": 34
        }
      },
      "source": [
        "num_tokens = [len(tokens) for tokens in x_train_tokens + x_test_tokens]\n",
        "num_tokens = np.array(num_tokens)\n",
        "\n",
        "max_tokens = np.mean(num_tokens) + 2 * np.std(num_tokens)\n",
        "max_tokens = int(max_tokens)\n",
        "max_tokens\n"
      ],
      "execution_count": null,
      "outputs": [
        {
          "output_type": "execute_result",
          "data": {
            "text/plain": [
              "26"
            ]
          },
          "metadata": {
            "tags": []
          },
          "execution_count": 80
        }
      ]
    },
    {
      "cell_type": "markdown",
      "metadata": {
        "id": "c5sgB-Oqb0Zj"
      },
      "source": [
        "Let's see how many tweets are less than 26 words. About 95.5% of tweets are shorter than 26 words."
      ]
    },
    {
      "cell_type": "code",
      "metadata": {
        "id": "itx133hrbOhO",
        "outputId": "5a3c22c2-306b-433b-9f98-22517161ac5f",
        "colab": {
          "base_uri": "https://localhost:8080/",
          "height": 34
        }
      },
      "source": [
        "np.sum(num_tokens < max_tokens) / len(num_tokens)"
      ],
      "execution_count": null,
      "outputs": [
        {
          "output_type": "execute_result",
          "data": {
            "text/plain": [
              "0.9559164733178654"
            ]
          },
          "metadata": {
            "tags": []
          },
          "execution_count": 81
        }
      ]
    },
    {
      "cell_type": "markdown",
      "metadata": {
        "id": "GjpOHUQdecAy"
      },
      "source": [
        "We can put paddings on sequences by pad_sequences function. Prior to this, we can decide a position to put padding either 'pre' or 'post' of the sentence."
      ]
    },
    {
      "cell_type": "code",
      "metadata": {
        "id": "wiigXepH5NEi"
      },
      "source": [
        "pad = 'post'\n",
        "\n",
        "x_train_pad = pad_sequences(x_train_tokens, maxlen=max_tokens,\n",
        "                            padding=pad, truncating=pad)\n",
        "\n",
        "x_test_pad = pad_sequences(x_test_tokens, maxlen=max_tokens,\n",
        "                           padding=pad, truncating=pad)\n",
        "\n"
      ],
      "execution_count": null,
      "outputs": []
    },
    {
      "cell_type": "markdown",
      "metadata": {
        "id": "db4X8Wzz2PuO"
      },
      "source": [
        "###4.RNN "
      ]
    },
    {
      "cell_type": "markdown",
      "metadata": {
        "id": "Aq-wv8cTjrpY"
      },
      "source": [
        "Recurrent Neural Network(RNN) - RNN accepts a concept that you can deliver trained data back to pre-layers by using LSTM(Long Short-Term Memory), so model can understand the sequence of the sentences.\n",
        "\n",
        "For building a Nueral Networks, import necessary layers, optimizer and regularizers packages."
      ]
    },
    {
      "cell_type": "code",
      "metadata": {
        "id": "fTqpJc292R10"
      },
      "source": [
        "from keras.models import Sequential\n",
        "from keras.layers import Dense, GRU, LSTM, Dropout\n",
        "from keras.regularizers import l1, l2\n",
        "\n",
        "from keras.layers.embeddings import Embedding\n",
        "from keras.optimizers import Adam\n",
        "from sklearn.metrics import classification_report\n",
        "from sklearn.utils import class_weight\n"
      ],
      "execution_count": null,
      "outputs": []
    },
    {
      "cell_type": "code",
      "metadata": {
        "id": "A9o-lXo22YUl"
      },
      "source": [
        "embedding_size = 64"
      ],
      "execution_count": null,
      "outputs": []
    },
    {
      "cell_type": "markdown",
      "metadata": {
        "id": "Z6qyf9T9oMEA"
      },
      "source": [
        "Here, we build a RNN model. First, create a sequential object that we can stack layers. For RNN, we decide to pile Embedding - Dropout - LSTM - Dropout - Dense layers. Then compile the stack and use Adam as an optimizer. We put Dropout layers and regularizer as much as we can to avoid overfitting. "
      ]
    },
    {
      "cell_type": "code",
      "metadata": {
        "id": "-iq-Yb012aXt"
      },
      "source": [
        "rnn = Sequential()\n",
        "\n",
        "rnn.add(Embedding(input_dim = num_words,\n",
        "                 output_dim = embedding_size,\n",
        "                 input_length = max_tokens,\n",
        "                 name = \"embedding_layer\"))\n",
        "\n",
        "rnn.add(Dropout(0.5))\n",
        "\n",
        "rnn.add(LSTM(units = 16,\n",
        "            dropout = 0.4,\n",
        "            kernel_regularizer=l1(0.0001),\n",
        "            name = 'LSTM_layer'))\n",
        "\n",
        "rnn.add(Dropout(0.5))\n",
        "rnn.add(Dropout(0.1))\n",
        "\n",
        "rnn.add(Dense(units = 1,\n",
        "             activation = 'sigmoid',\n",
        "             kernel_regularizer=l2(0.015),\n",
        "             name = 'Ouput_Layer'))\n",
        "\n",
        "\n",
        "optimizer = Adam(lr = 0.001, decay = 0.001)\n",
        "\n",
        "rnn.compile(loss = 'binary_crossentropy',\n",
        "           optimizer = optimizer,\n",
        "           metrics = ['accuracy'])"
      ],
      "execution_count": null,
      "outputs": []
    },
    {
      "cell_type": "markdown",
      "metadata": {
        "id": "9ckfKhYykij0"
      },
      "source": [
        "Because the dataset is imbalanced, we will give different weights on labels. class_weight function calculates the weights automatically and we put this into fit function as a parameter."
      ]
    },
    {
      "cell_type": "code",
      "metadata": {
        "id": "fqMC8J-f20UI",
        "outputId": "b8780acd-0af8-4e17-e3ed-61cabaa5be4a",
        "colab": {
          "base_uri": "https://localhost:8080/",
          "height": 34
        }
      },
      "source": [
        "class_weights = class_weight.compute_class_weight('balanced',\n",
        "                                                  np.unique(y_train),\n",
        "                                                  y_train)\n",
        "class_weights = dict(enumerate(class_weights))\n",
        "class_weights"
      ],
      "execution_count": null,
      "outputs": [
        {
          "output_type": "execute_result",
          "data": {
            "text/plain": [
              "{0: 0.5847868217054264, 1: 3.4485714285714284}"
            ]
          },
          "metadata": {
            "tags": []
          },
          "execution_count": 86
        }
      ]
    },
    {
      "cell_type": "markdown",
      "metadata": {
        "id": "dtXkYY6k2koQ"
      },
      "source": [
        "####Training"
      ]
    },
    {
      "cell_type": "markdown",
      "metadata": {
        "id": "G0v8gCifq_jM"
      },
      "source": [
        "We decide to set batch_size as 64, and epochs as 4. Batch size the number of samples that will be propagated through the network and epoch is the number of times training data go through networks."
      ]
    },
    {
      "cell_type": "code",
      "metadata": {
        "id": "118KAX91xqU9",
        "outputId": "f01edca7-530c-46f5-a334-4ea28451fc4f",
        "colab": {
          "base_uri": "https://localhost:8080/",
          "height": 275
        }
      },
      "source": [
        "rnn.fit(x_train_pad, y_train, batch_size = 64, validation_split = 0.02, epochs = 2, class_weight = class_weights)\n",
        "preds_train = rnn.predict_classes(x_train_pad)\n",
        "print(classification_report(y_train, preds_train, digits = 3))"
      ],
      "execution_count": null,
      "outputs": [
        {
          "output_type": "stream",
          "text": [
            "Train on 2365 samples, validate on 49 samples\n",
            "Epoch 1/2\n",
            "2365/2365 [==============================] - 1s 476us/step - loss: 0.2087 - acc: 0.9780 - val_loss: 2.2996 - val_acc: 0.7959\n",
            "Epoch 2/2\n",
            "2365/2365 [==============================] - 1s 479us/step - loss: 0.1764 - acc: 0.9839 - val_loss: 2.6431 - val_acc: 0.7959\n",
            "              precision    recall  f1-score   support\n",
            "\n",
            "           0      0.992     0.994     0.993      2064\n",
            "           1      0.962     0.951     0.957       350\n",
            "\n",
            "    accuracy                          0.988      2414\n",
            "   macro avg      0.977     0.973     0.975      2414\n",
            "weighted avg      0.988     0.988     0.988      2414\n",
            "\n"
          ],
          "name": "stdout"
        }
      ]
    },
    {
      "cell_type": "markdown",
      "metadata": {
        "id": "DcVK_F7hqqBr"
      },
      "source": [
        "#### Test"
      ]
    },
    {
      "cell_type": "code",
      "metadata": {
        "id": "sUjUGtLDUF1G",
        "outputId": "a5232fd7-6650-4bea-a8ab-74f0bcb7b990",
        "colab": {
          "base_uri": "https://localhost:8080/",
          "height": 170
        }
      },
      "source": [
        "preds = rnn.predict_classes(x_test_pad)\n",
        "print(classification_report(y_test, preds, digits = 3))\n"
      ],
      "execution_count": null,
      "outputs": [
        {
          "output_type": "stream",
          "text": [
            "              precision    recall  f1-score   support\n",
            "\n",
            "           0      0.878     0.895     0.886       506\n",
            "           1      0.391     0.351     0.370        97\n",
            "\n",
            "    accuracy                          0.808       603\n",
            "   macro avg      0.634     0.623     0.628       603\n",
            "weighted avg      0.800     0.808     0.803       603\n",
            "\n"
          ],
          "name": "stdout"
        }
      ]
    },
    {
      "cell_type": "markdown",
      "metadata": {
        "id": "y_yxYJt1qua5"
      },
      "source": [
        "Check confusion_matrix of RNN model."
      ]
    },
    {
      "cell_type": "code",
      "metadata": {
        "id": "tUx5PQD5yIJJ",
        "outputId": "ec615ced-3e8c-4d13-e342-9c75d2425c8e",
        "colab": {
          "base_uri": "https://localhost:8080/",
          "height": 51
        }
      },
      "source": [
        "from sklearn.metrics import confusion_matrix\n",
        "\n",
        "confusion_matrix(y_test, preds)"
      ],
      "execution_count": null,
      "outputs": [
        {
          "output_type": "execute_result",
          "data": {
            "text/plain": [
              "array([[453,  53],\n",
              "       [ 63,  34]])"
            ]
          },
          "metadata": {
            "tags": []
          },
          "execution_count": 130
        }
      ]
    },
    {
      "cell_type": "markdown",
      "metadata": {
        "id": "H2ebpF5fDme7"
      },
      "source": [
        "In the code below, return of fit() function stores accuracy/loss of training and validation as the change number of epochs. We can visualize it."
      ]
    },
    {
      "cell_type": "code",
      "metadata": {
        "id": "THVgn3YMtnTK",
        "outputId": "7df5a9c2-db66-445f-ef68-4a38ee8a3e0c",
        "colab": {
          "base_uri": "https://localhost:8080/",
          "height": 734
        }
      },
      "source": [
        "rnn_mod_fit = rnn.fit(x_train_pad, y_train, batch_size=64,\n",
        "          validation_split=0.05, epochs=20)"
      ],
      "execution_count": null,
      "outputs": [
        {
          "output_type": "stream",
          "text": [
            "Train on 2293 samples, validate on 121 samples\n",
            "Epoch 1/20\n",
            "2293/2293 [==============================] - 2s 675us/step - loss: 0.1393 - acc: 0.9782 - val_loss: 0.4857 - val_acc: 0.8760\n",
            "Epoch 2/20\n",
            "2293/2293 [==============================] - 1s 636us/step - loss: 0.1220 - acc: 0.9839 - val_loss: 0.5270 - val_acc: 0.8512\n",
            "Epoch 3/20\n",
            "2293/2293 [==============================] - 1s 597us/step - loss: 0.1242 - acc: 0.9834 - val_loss: 0.5377 - val_acc: 0.8512\n",
            "Epoch 4/20\n",
            "2293/2293 [==============================] - 1s 636us/step - loss: 0.1165 - acc: 0.9847 - val_loss: 0.5520 - val_acc: 0.8512\n",
            "Epoch 5/20\n",
            "2293/2293 [==============================] - 1s 622us/step - loss: 0.1146 - acc: 0.9843 - val_loss: 0.5670 - val_acc: 0.8430\n",
            "Epoch 6/20\n",
            "2293/2293 [==============================] - 1s 593us/step - loss: 0.1115 - acc: 0.9891 - val_loss: 0.5924 - val_acc: 0.8347\n",
            "Epoch 7/20\n",
            "2293/2293 [==============================] - 1s 595us/step - loss: 0.1153 - acc: 0.9860 - val_loss: 0.6118 - val_acc: 0.8264\n",
            "Epoch 8/20\n",
            "2293/2293 [==============================] - 1s 553us/step - loss: 0.1141 - acc: 0.9865 - val_loss: 0.5756 - val_acc: 0.8512\n",
            "Epoch 9/20\n",
            "2293/2293 [==============================] - 1s 532us/step - loss: 0.1033 - acc: 0.9895 - val_loss: 0.6109 - val_acc: 0.8347\n",
            "Epoch 10/20\n",
            "2293/2293 [==============================] - 1s 522us/step - loss: 0.1052 - acc: 0.9904 - val_loss: 0.6420 - val_acc: 0.8347\n",
            "Epoch 11/20\n",
            "2293/2293 [==============================] - 1s 509us/step - loss: 0.1048 - acc: 0.9895 - val_loss: 0.5999 - val_acc: 0.8430\n",
            "Epoch 12/20\n",
            "2293/2293 [==============================] - 1s 506us/step - loss: 0.1133 - acc: 0.9856 - val_loss: 0.6283 - val_acc: 0.8347\n",
            "Epoch 13/20\n",
            "2293/2293 [==============================] - 1s 491us/step - loss: 0.1033 - acc: 0.9904 - val_loss: 0.6601 - val_acc: 0.8182\n",
            "Epoch 14/20\n",
            "2293/2293 [==============================] - 1s 487us/step - loss: 0.1021 - acc: 0.9895 - val_loss: 0.6135 - val_acc: 0.8512\n",
            "Epoch 15/20\n",
            "2293/2293 [==============================] - 1s 479us/step - loss: 0.0977 - acc: 0.9900 - val_loss: 0.6144 - val_acc: 0.8512\n",
            "Epoch 16/20\n",
            "2293/2293 [==============================] - 1s 471us/step - loss: 0.1022 - acc: 0.9900 - val_loss: 0.6517 - val_acc: 0.8347\n",
            "Epoch 17/20\n",
            "2293/2293 [==============================] - 1s 473us/step - loss: 0.0905 - acc: 0.9939 - val_loss: 0.6919 - val_acc: 0.8182\n",
            "Epoch 18/20\n",
            "2293/2293 [==============================] - 1s 473us/step - loss: 0.0939 - acc: 0.9926 - val_loss: 0.6977 - val_acc: 0.8347\n",
            "Epoch 19/20\n",
            "2293/2293 [==============================] - 1s 483us/step - loss: 0.0996 - acc: 0.9908 - val_loss: 0.6861 - val_acc: 0.8264\n",
            "Epoch 20/20\n",
            "2293/2293 [==============================] - 1s 473us/step - loss: 0.0989 - acc: 0.9895 - val_loss: 0.6737 - val_acc: 0.8264\n"
          ],
          "name": "stdout"
        }
      ]
    },
    {
      "cell_type": "code",
      "metadata": {
        "id": "UgisVtv0-uCG",
        "outputId": "c5da2976-6fce-44c9-b14e-2b36d7bca396",
        "colab": {
          "base_uri": "https://localhost:8080/",
          "height": 34
        }
      },
      "source": [
        "history_dict = rnn_mod_fit.history\n",
        "history_dict.keys()"
      ],
      "execution_count": null,
      "outputs": [
        {
          "output_type": "execute_result",
          "data": {
            "text/plain": [
              "dict_keys(['val_loss', 'val_acc', 'loss', 'acc'])"
            ]
          },
          "metadata": {
            "tags": []
          },
          "execution_count": 97
        }
      ]
    },
    {
      "cell_type": "markdown",
      "metadata": {
        "id": "T8WW0IT9Hbpy"
      },
      "source": [
        "Graph in the below, we can see validation loss is increasing as the number of epochs increases. Validation loss is minimized in the validation set at 2."
      ]
    },
    {
      "cell_type": "code",
      "metadata": {
        "id": "P0XzSRfrtpl4",
        "outputId": "3d7ca61e-ce76-4ff6-ca29-d457252f69c4",
        "colab": {
          "base_uri": "https://localhost:8080/",
          "height": 295
        }
      },
      "source": [
        "acc = history_dict['acc']\n",
        "val_acc = history_dict['val_acc']\n",
        "loss = history_dict['loss']\n",
        "val_loss = history_dict['val_loss']\n",
        "\n",
        "epochs = range(1, len(acc) + 1)\n",
        "plt.plot(epochs, loss, 'bo', label='Training loss')\n",
        "plt.plot(epochs, val_loss, 'b', label='Validation loss')\n",
        "plt.title('Training and validation loss')\n",
        "plt.xlabel('Epochs')\n",
        "plt.ylabel('Loss')\n",
        "plt.legend()\n",
        "\n",
        "plt.show()"
      ],
      "execution_count": null,
      "outputs": [
        {
          "output_type": "display_data",
          "data": {
            "image/png": "[encoded data removed]",
            "text/plain": [
              "<Figure size 432x288 with 1 Axes>"
            ]
          },
          "metadata": {
            "tags": []
          }
        }
      ]
    },
    {
      "cell_type": "markdown",
      "metadata": {
        "id": "Mi9D284dIYy2"
      },
      "source": [
        "Next graph shows the change of accuracies, validation accuracy is fluctuating and recored the highest maximum when epoch is 2."
      ]
    },
    {
      "cell_type": "code",
      "metadata": {
        "id": "TT47vSemtrZX",
        "outputId": "acdbd95b-5b7c-4aa7-8ebb-a3a59ef7e802",
        "colab": {
          "base_uri": "https://localhost:8080/",
          "height": 295
        }
      },
      "source": [
        "plt.plot(epochs, acc, 'bo', label='Training acc')\n",
        "plt.plot(epochs, val_acc, 'b', label='Validation acc')\n",
        "plt.title('Training and validation accuracy')\n",
        "plt.xlabel('Epochs')\n",
        "plt.ylabel('Accuracy')\n",
        "plt.legend()\n",
        "\n",
        "plt.show()"
      ],
      "execution_count": null,
      "outputs": [
        {
          "output_type": "display_data",
          "data": {
            "image/png": "[encoded data removed]",
            "text/plain": [
              "<Figure size 432x288 with 1 Axes>"
            ]
          },
          "metadata": {
            "tags": []
          }
        }
      ]
    },
    {
      "cell_type": "markdown",
      "metadata": {
        "id": "8ncHh90ZNwvY"
      },
      "source": [
        "###5.CNN"
      ]
    },
    {
      "cell_type": "code",
      "metadata": {
        "id": "8EjXDRtcN1j1"
      },
      "source": [
        "from keras.layers import Conv1D, GlobalMaxPooling1D, Dropout"
      ],
      "execution_count": null,
      "outputs": []
    },
    {
      "cell_type": "code",
      "metadata": {
        "id": "FxXtWujMN9-W"
      },
      "source": [
        "embedding_size = 32"
      ],
      "execution_count": null,
      "outputs": []
    },
    {
      "cell_type": "code",
      "metadata": {
        "id": "rrhy9YXmOGab"
      },
      "source": [
        "cnn = Sequential()\n",
        "cnn.add(Embedding(input_dim=num_words,\n",
        "                    output_dim=embedding_size,\n",
        "                    input_length=max_tokens,\n",
        "                    name='Embedding_layer'))\n",
        "\n",
        "cnn.add(Conv1D(filters=32, \n",
        "               kernel_size=7, \n",
        "               activation='relu',\n",
        "               name='Conv_Layer'))\n",
        "\n",
        "cnn.add(GlobalMaxPooling1D(name='Pooling_Layer'))\n",
        "\n",
        "cnn.add(Dense(units=100,\n",
        "              activation='relu',\n",
        "              name='Dense_Layer'))\n",
        "\n",
        "cnn.add(Dense(units=1,\n",
        "              activation='sigmoid',\n",
        "              name='Dense_Output_Layer'))\n",
        "\n",
        "cnn.compile(loss='binary_crossentropy',\n",
        "              optimizer='adam',\n",
        "              metrics=['accuracy'])"
      ],
      "execution_count": null,
      "outputs": []
    },
    {
      "cell_type": "markdown",
      "metadata": {
        "id": "HlRn47AVORMv"
      },
      "source": [
        "#### Training"
      ]
    },
    {
      "cell_type": "code",
      "metadata": {
        "id": "VxUB3Kv9OUa-",
        "outputId": "236253ba-ed5f-4915-e692-ee0755d8cdf6",
        "colab": {
          "base_uri": "https://localhost:8080/",
          "height": 292
        }
      },
      "source": [
        "cnn.fit(x_train_pad, y_train, batch_size = 16,\n",
        "          validation_split=0.02, epochs= 2, class_weight = class_weights)\n",
        "cnn.evaluate(x_train_pad, y_train)\n",
        "preds_cnn_train = cnn.predict_classes(x_train_pad)\n",
        "print(classification_report(y_train, preds_cnn_train, digits=3))"
      ],
      "execution_count": null,
      "outputs": [
        {
          "output_type": "stream",
          "text": [
            "Train on 2365 samples, validate on 49 samples\n",
            "Epoch 1/2\n",
            "2365/2365 [==============================] - 3s 1ms/step - loss: 0.6868 - acc: 0.6960 - val_loss: 0.8012 - val_acc: 0.6735\n",
            "Epoch 2/2\n",
            "2365/2365 [==============================] - 1s 396us/step - loss: 0.5210 - acc: 0.7636 - val_loss: 1.2125 - val_acc: 0.7143\n",
            "2414/2414 [==============================] - 0s 49us/step\n",
            "              precision    recall  f1-score   support\n",
            "\n",
            "           0      0.990     0.896     0.941      2064\n",
            "           1      0.607     0.949     0.740       350\n",
            "\n",
            "    accuracy                          0.903      2414\n",
            "   macro avg      0.799     0.922     0.840      2414\n",
            "weighted avg      0.935     0.903     0.912      2414\n",
            "\n"
          ],
          "name": "stdout"
        }
      ]
    },
    {
      "cell_type": "markdown",
      "metadata": {
        "id": "6tceqAbaOZ73"
      },
      "source": [
        "#### Testing"
      ]
    },
    {
      "cell_type": "code",
      "metadata": {
        "id": "mhNaS0FLOa6V",
        "outputId": "1ffb305b-9409-42d9-ba8f-92e969461efc",
        "colab": {
          "base_uri": "https://localhost:8080/",
          "height": 187
        }
      },
      "source": [
        "cnn.evaluate(x_test_pad, y_test)\n",
        "cnn_preds = cnn.predict_classes(x_test_pad)\n",
        "print(classification_report(y_test, cnn_preds, digits=3))"
      ],
      "execution_count": null,
      "outputs": [
        {
          "output_type": "stream",
          "text": [
            "603/603 [==============================] - 0s 74us/step\n",
            "              precision    recall  f1-score   support\n",
            "\n",
            "           0      0.886     0.802     0.842       506\n",
            "           1      0.310     0.464     0.372        97\n",
            "\n",
            "    accuracy                          0.748       603\n",
            "   macro avg      0.598     0.633     0.607       603\n",
            "weighted avg      0.794     0.748     0.767       603\n",
            "\n"
          ],
          "name": "stdout"
        }
      ]
    },
    {
      "cell_type": "code",
      "metadata": {
        "id": "yj-Ofbwrs5TT",
        "outputId": "69b2de19-0245-4b45-d692-284f85b17076",
        "colab": {
          "base_uri": "https://localhost:8080/",
          "height": 734
        }
      },
      "source": [
        "cnn_mod_fit = cnn.fit(x_train_pad, y_train, batch_size=16,\n",
        "          validation_split=0.05, epochs=20)"
      ],
      "execution_count": null,
      "outputs": [
        {
          "output_type": "stream",
          "text": [
            "Train on 2293 samples, validate on 121 samples\n",
            "Epoch 1/20\n",
            "2293/2293 [==============================] - 1s 378us/step - loss: 0.0065 - acc: 0.9991 - val_loss: 1.0271 - val_acc: 0.8264\n",
            "Epoch 2/20\n",
            "2293/2293 [==============================] - 1s 368us/step - loss: 0.0042 - acc: 0.9991 - val_loss: 1.0054 - val_acc: 0.7851\n",
            "Epoch 3/20\n",
            "2293/2293 [==============================] - 1s 365us/step - loss: 0.0023 - acc: 0.9996 - val_loss: 1.1231 - val_acc: 0.8017\n",
            "Epoch 4/20\n",
            "2293/2293 [==============================] - 1s 373us/step - loss: 0.0055 - acc: 0.9991 - val_loss: 1.1492 - val_acc: 0.8017\n",
            "Epoch 5/20\n",
            "2293/2293 [==============================] - 1s 374us/step - loss: 0.0043 - acc: 0.9996 - val_loss: 1.0544 - val_acc: 0.8099\n",
            "Epoch 6/20\n",
            "2293/2293 [==============================] - 1s 357us/step - loss: 0.0057 - acc: 0.9991 - val_loss: 1.0237 - val_acc: 0.8099\n",
            "Epoch 7/20\n",
            "2293/2293 [==============================] - 1s 370us/step - loss: 0.0049 - acc: 0.9991 - val_loss: 1.0158 - val_acc: 0.8099\n",
            "Epoch 8/20\n",
            "2293/2293 [==============================] - 1s 367us/step - loss: 0.0020 - acc: 0.9996 - val_loss: 1.0922 - val_acc: 0.8099\n",
            "Epoch 9/20\n",
            "2293/2293 [==============================] - 1s 360us/step - loss: 0.0037 - acc: 0.9996 - val_loss: 1.0087 - val_acc: 0.7769\n",
            "Epoch 10/20\n",
            "2293/2293 [==============================] - 1s 365us/step - loss: 0.0048 - acc: 0.9991 - val_loss: 0.9877 - val_acc: 0.7769\n",
            "Epoch 11/20\n",
            "2293/2293 [==============================] - 1s 370us/step - loss: 0.0062 - acc: 0.9991 - val_loss: 0.9822 - val_acc: 0.7686\n",
            "Epoch 12/20\n",
            "2293/2293 [==============================] - 1s 355us/step - loss: 0.0052 - acc: 0.9991 - val_loss: 1.0348 - val_acc: 0.7934\n",
            "Epoch 13/20\n",
            "2293/2293 [==============================] - 1s 359us/step - loss: 0.0031 - acc: 0.9991 - val_loss: 1.0487 - val_acc: 0.8099\n",
            "Epoch 14/20\n",
            "2293/2293 [==============================] - 1s 369us/step - loss: 0.0018 - acc: 0.9996 - val_loss: 1.2193 - val_acc: 0.8099\n",
            "Epoch 15/20\n",
            "2293/2293 [==============================] - 1s 370us/step - loss: 0.0034 - acc: 0.9996 - val_loss: 1.0310 - val_acc: 0.8017\n",
            "Epoch 16/20\n",
            "2293/2293 [==============================] - 1s 366us/step - loss: 0.0052 - acc: 0.9991 - val_loss: 1.0256 - val_acc: 0.7934\n",
            "Epoch 17/20\n",
            "2293/2293 [==============================] - 1s 382us/step - loss: 0.0016 - acc: 0.9996 - val_loss: 1.2539 - val_acc: 0.7934\n",
            "Epoch 18/20\n",
            "2293/2293 [==============================] - 1s 369us/step - loss: 0.0032 - acc: 0.9996 - val_loss: 0.9983 - val_acc: 0.7769\n",
            "Epoch 19/20\n",
            "2293/2293 [==============================] - 1s 384us/step - loss: 0.0044 - acc: 0.9991 - val_loss: 1.0226 - val_acc: 0.7934\n",
            "Epoch 20/20\n",
            "2293/2293 [==============================] - 1s 363us/step - loss: 0.0019 - acc: 0.9996 - val_loss: 1.1691 - val_acc: 0.8017\n"
          ],
          "name": "stdout"
        }
      ]
    },
    {
      "cell_type": "code",
      "metadata": {
        "id": "HH3Y29vcs7R7",
        "outputId": "938e6438-890d-4e51-a14f-effc8c7f5e17",
        "colab": {
          "base_uri": "https://localhost:8080/",
          "height": 34
        }
      },
      "source": [
        "history_dict = cnn_mod_fit.history\n",
        "history_dict.keys()"
      ],
      "execution_count": null,
      "outputs": [
        {
          "output_type": "execute_result",
          "data": {
            "text/plain": [
              "dict_keys(['val_loss', 'val_acc', 'loss', 'acc'])"
            ]
          },
          "metadata": {
            "tags": []
          },
          "execution_count": 139
        }
      ]
    },
    {
      "cell_type": "markdown",
      "metadata": {
        "id": "_bwyCvqondr6"
      },
      "source": [
        "#### Testing"
      ]
    },
    {
      "cell_type": "code",
      "metadata": {
        "id": "AvkWdSeqr9JH",
        "outputId": "101309d0-8580-4113-e955-e474674832f4",
        "colab": {
          "base_uri": "https://localhost:8080/",
          "height": 295
        }
      },
      "source": [
        "acc = history_dict['acc']\n",
        "val_acc = history_dict['val_acc']\n",
        "loss = history_dict['loss']\n",
        "val_loss = history_dict['val_loss']\n",
        "\n",
        "epochs = range(1, len(acc) + 1)\n",
        "plt.plot(epochs, loss, 'bo', label='Training loss')\n",
        "plt.plot(epochs, val_loss, 'b', label='Validation loss')\n",
        "plt.title('Training and validation loss')\n",
        "plt.xlabel('Epochs')\n",
        "plt.ylabel('Loss')\n",
        "plt.legend()\n",
        "\n",
        "plt.show()"
      ],
      "execution_count": null,
      "outputs": [
        {
          "output_type": "display_data",
          "data": {
            "image/png": "[encoded data removed]",
            "text/plain": [
              "<Figure size 432x288 with 1 Axes>"
            ]
          },
          "metadata": {
            "tags": []
          }
        }
      ]
    },
    {
      "cell_type": "markdown",
      "metadata": {
        "id": "QvsW4fZTnqLz"
      },
      "source": [
        ""
      ]
    },
    {
      "cell_type": "code",
      "metadata": {
        "id": "6XkC3BlxPhHJ",
        "outputId": "f803adac-a7bd-41b5-8b8b-d9b4ab65deee",
        "colab": {
          "base_uri": "https://localhost:8080/",
          "height": 295
        }
      },
      "source": [
        "plt.plot(epochs, acc, 'bo', label='Training acc')\n",
        "plt.plot(epochs, val_acc, 'b', label='Validation acc')\n",
        "plt.title('Training and validation accuracy')\n",
        "plt.xlabel('Epochs')\n",
        "plt.ylabel('Accuracy')\n",
        "plt.legend()\n",
        "\n",
        "plt.show()"
      ],
      "execution_count": null,
      "outputs": [
        {
          "output_type": "display_data",
          "data": {
            "image/png": "[encoded data removed]",
            "text/plain": [
              "<Figure size 432x288 with 1 Axes>"
            ]
          },
          "metadata": {
            "tags": []
          }
        }
      ]
    },
    {
      "cell_type": "code",
      "metadata": {
        "id": "p5dI8hyknKBD"
      },
      "source": [
        ""
      ],
      "execution_count": null,
      "outputs": []
    }
  ]
}